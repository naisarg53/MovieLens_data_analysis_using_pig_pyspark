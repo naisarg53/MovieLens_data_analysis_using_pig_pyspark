{
 "cells": [
  {
   "cell_type": "code",
   "execution_count": 7,
   "metadata": {},
   "outputs": [
    {
     "data": {
      "text/plain": [
       "'C:\\\\spark-2.4.4'"
      ]
     },
     "execution_count": 7,
     "metadata": {},
     "output_type": "execute_result"
    }
   ],
   "source": [
    "import findspark\n",
    "findspark.init()\n",
    "findspark.find()\n",
    "import pyspark\n",
    "findspark.find()"
   ]
  },
  {
   "cell_type": "code",
   "execution_count": 3,
   "metadata": {},
   "outputs": [],
   "source": [
    "from pyspark import SparkContext, SparkConf\n",
    "from pyspark.sql.functions import *\n",
    "from pyspark.sql.session import SparkSession\n",
    "\n",
    "sc = SparkContext.getOrCreate()\n",
    "spark = SparkSession(sc)"
   ]
  },
  {
   "cell_type": "code",
   "execution_count": 4,
   "metadata": {},
   "outputs": [],
   "source": [
    "users = spark.read.format(\"csv\")\\\n",
    ".options(header = True, inferSchema = True)\\\n",
    ".load(\"hdfs://localhost:9000/MovieData/input/users.csv\")\\\n",
    ".persist()"
   ]
  },
  {
   "cell_type": "code",
   "execution_count": 5,
   "metadata": {},
   "outputs": [],
   "source": [
    "movies = spark.read.format(\"csv\")\\\n",
    ".options(header = True, inferSchema = True)\\\n",
    ".load(\"hdfs://localhost:9000/MovieData/input/movie.csv\")\\\n",
    ".persist()"
   ]
  },
  {
   "cell_type": "code",
   "execution_count": 6,
   "metadata": {},
   "outputs": [],
   "source": [
    "ratings = spark.read.format(\"csv\")\\\n",
    ".options(header = True, inferSchema = True)\\\n",
    ".load(\"hdfs://localhost:9000/MovieData/input/rating.csv\")\\\n",
    ".persist()\n"
   ]
  },
  {
   "cell_type": "code",
   "execution_count": 8,
   "metadata": {},
   "outputs": [],
   "source": [
    "age_avg_rating = users.alias(\"t1\")\\\n",
    ".join(ratings.alias(\"t2\"), col(\"t1.user_id\") == col(\"t2.userId\"))\\\n",
    ".select(col(\"rating\"), col(\"age\"))\\\n",
    ".groupBy(col(\"age\"))\\\n",
    ".agg(count(col(\"age\")).alias(\"age_category\"), avg(\"rating\").alias(\"avg_rating\")) \\\n",
    ".orderBy(desc(\"avg_rating\"))"
   ]
  },
  {
   "cell_type": "code",
   "execution_count": 9,
   "metadata": {
    "scrolled": false
   },
   "outputs": [
    {
     "name": "stdout",
     "output_type": "stream",
     "text": [
      "+--------+------------+------------------+\n",
      "|     age|age_category|        avg_rating|\n",
      "+--------+------------+------------------+\n",
      "|   50-55|       70641|3.5862954941181466|\n",
      "|   18-24|      159607| 3.538341050204565|\n",
      "|   35-44|      180083|3.5352143178423283|\n",
      "|   45-49|       85968|3.5168492927600967|\n",
      "|Under 18|       34969|3.5156710229060026|\n",
      "|   25-34|      314284| 3.514257805042573|\n",
      "|     56+|       55696|3.4560830221200805|\n",
      "+--------+------------+------------------+\n",
      "\n"
     ]
    }
   ],
   "source": [
    "age_avg_rating.show()"
   ]
  },
  {
   "cell_type": "code",
   "execution_count": 40,
   "metadata": {},
   "outputs": [],
   "source": [
    "age_avg_rating.coalesce(1).write.csv(\"hdfs://localhost:9000/MovieData/output/average_rating_age.csv\")"
   ]
  },
  {
   "cell_type": "code",
   "execution_count": 41,
   "metadata": {},
   "outputs": [
    {
     "name": "stdout",
     "output_type": "stream",
     "text": [
      "root\n",
      " |-- age: string (nullable = true)\n",
      " |-- age_category: long (nullable = false)\n",
      " |-- avg_rating: double (nullable = true)\n",
      "\n"
     ]
    }
   ],
   "source": [
    "age_avg_rating.printSchema()"
   ]
  },
  {
   "cell_type": "code",
   "execution_count": 18,
   "metadata": {
    "scrolled": true
   },
   "outputs": [
    {
     "data": {
      "image/png": "[encoded data removed]",
      "text/plain": [
       "<Figure size 504x360 with 1 Axes>"
      ]
     },
     "metadata": {
      "needs_background": "light"
     },
     "output_type": "display_data"
    }
   ],
   "source": [
    "import pandas as pd\n",
    "import matplotlib.pyplot as plt\n",
    "import seaborn as sb\n",
    "%matplotlib inline \n",
    "\n",
    "plt.figure(figsize=(7, 5))\n",
    "\n",
    "df = age_avg_rating.toPandas()\n",
    "sb.barplot(data = df, x = 'age', y = 'avg_rating', ci = None, palette = 'rocket', order = [\"Under 18\", \"18-24\", \"25-34\", \"35-44\", \"45-49\", \"50-55\", \"56+\"]);"
   ]
  },
  {
   "cell_type": "code",
   "execution_count": 10,
   "metadata": {},
   "outputs": [],
   "source": [
    "age_profession_avg_rating = users.alias(\"t1\")\\\n",
    ".join(ratings.alias(\"t2\"), col(\"t1.user_id\") == col(\"t2.userId\"))\\\n",
    ".select(col(\"rating\"), col(\"occupation\"))\\\n",
    ".groupBy(col(\"occupation\"))\\\n",
    ".agg(count(col(\"occupation\")).alias(\"category\"), avg(\"rating\").alias(\"avg_rating\")) \\\n",
    ".orderBy(desc(\"avg_rating\"))"
   ]
  },
  {
   "cell_type": "code",
   "execution_count": 11,
   "metadata": {},
   "outputs": [
    {
     "name": "stdout",
     "output_type": "stream",
     "text": [
      "+--------------------+--------+------------------+\n",
      "|          occupation|category|        avg_rating|\n",
      "+--------------------+--------+------------------+\n",
      "|              farmer|    3094|3.6872979961215253|\n",
      "|          unemployed|   10658| 3.678692062300619|\n",
      "|              artist|   35857| 3.609239479041749|\n",
      "|       self-employed|   33323|3.6032320019205955|\n",
      "|              writer|   33616|3.5818955259400287|\n",
      "|      clerical/admin|   23156|3.5788132665399894|\n",
      "|   academic/educator|   71038|3.5780286607167993|\n",
      "|               other|  105715|3.5483706191174385|\n",
      "|        K-12 student|   28282|3.5443921929142213|\n",
      "| tradesman/craftsman|    9382|3.5369857173310595|\n",
      "|executive/managerial|  101014| 3.535757419763597|\n",
      "|              lawyer|   19581| 3.522394157601757|\n",
      "| technician/engineer|   85038| 3.522007808273948|\n",
      "|college/grad student|  110429|3.5194061342582112|\n",
      "|          programmer|   62103| 3.498116033041882|\n",
      "|  doctor/health care|   39845| 3.490450495670724|\n",
      "|     sales/marketing|   45809|3.4622781549477177|\n",
      "|           scientist|   19155| 3.462176977290525|\n",
      "|           homemaker|   14685|3.4351719441607083|\n",
      "|             retired|   26161|3.4063491456748594|\n",
      "+--------------------+--------+------------------+\n",
      "only showing top 20 rows\n",
      "\n"
     ]
    }
   ],
   "source": [
    "age_profession_avg_rating.show()"
   ]
  },
  {
   "cell_type": "code",
   "execution_count": 71,
   "metadata": {},
   "outputs": [],
   "source": [
    "age_profession_avg_rating.coalesce(1).write.csv(\"hdfs://localhost:9000/MovieData/output/average_rating_profession.csv\")"
   ]
  },
  {
   "cell_type": "code",
   "execution_count": 15,
   "metadata": {},
   "outputs": [
    {
     "data": {
      "image/png": "[encoded data removed]",
      "text/plain": [
       "<Figure size 720x504 with 1 Axes>"
      ]
     },
     "metadata": {
      "needs_background": "light"
     },
     "output_type": "display_data"
    }
   ],
   "source": [
    "import pandas as pd\n",
    "import matplotlib.pyplot as plt\n",
    "import seaborn as sb\n",
    "%matplotlib inline \n",
    "\n",
    "plt.figure(figsize=(10, 7))\n",
    "\n",
    "df = age_profession_avg_rating.toPandas()\n",
    "sb.barplot(data = df, x = 'avg_rating', y = 'occupation', ci = None, palette = 'rocket');"
   ]
  },
  {
   "cell_type": "code",
   "execution_count": null,
   "metadata": {},
   "outputs": [],
   "source": []
  },
  {
   "cell_type": "code",
   "execution_count": 61,
   "metadata": {},
   "outputs": [],
   "source": [
    "from pyspark.sql.functions import split, explode\n",
    "\n",
    "age_genres_avg_rating = users.alias(\"t1\")\\\n",
    ".join(ratings.alias(\"t2\"), col(\"t1.user_id\") == col(\"t2.userId\"))\\\n",
    ".join(movies.alias(\"t3\"), col(\"t2.movieId\") == col(\"t3.movieId\"))\\\n",
    ".select(explode(split(col(\"genres\"), \"\\\\|\")).alias(\"genres\"), col(\"age\"), col(\"rating\"))\\\n",
    ".groupBy(col(\"age\"), col(\"genres\"))\\\n",
    ".agg(count(col(\"age\")).alias(\"age_category\"), count(col(\"genres\")).alias(\"genres_category\"), avg(\"rating\").alias(\"avg_rating\")) \\\n",
    ".orderBy(desc(\"avg_rating\"))"
   ]
  },
  {
   "cell_type": "code",
   "execution_count": 62,
   "metadata": {},
   "outputs": [
    {
     "name": "stdout",
     "output_type": "stream",
     "text": [
      "+--------+------------------+------------+---------------+------------------+\n",
      "|     age|            genres|age_category|genres_category|        avg_rating|\n",
      "+--------+------------------+------------+---------------+------------------+\n",
      "|   45-49|(no genres listed)|           1|              1|               4.5|\n",
      "|   50-55|         Film-Noir|         795|            795| 3.993081761006289|\n",
      "|   25-34|         Film-Noir|        3522|           3522| 3.989068710959682|\n",
      "|     56+|         Film-Noir|         549|            549|3.9799635701275045|\n",
      "|   18-24|         Film-Noir|        1686|           1686| 3.974199288256228|\n",
      "|   35-44|         Film-Noir|        1966|           1966| 3.950915564598169|\n",
      "|   50-55|               War|        3781|           3781|3.8841576302565457|\n",
      "|Under 18|         Film-Noir|         318|            318|3.8726415094339623|\n",
      "|   50-55|       Documentary|         925|            925|3.8567567567567567|\n",
      "|Under 18|       Documentary|         460|            460|3.8434782608695652|\n",
      "|   18-24|               War|        8464|           8464|3.8234286389413987|\n",
      "|   45-49|               War|        4281|           4281|3.8221209997664096|\n",
      "|Under 18|               War|        1775|           1775|3.8180281690140845|\n",
      "|   45-49|         Film-Noir|         890|            890|3.8162921348314605|\n",
      "|   35-44|               War|        9295|           9295| 3.813986013986014|\n",
      "|   25-34|               War|       16668|          16668| 3.809995200383969|\n",
      "|     56+|               War|        2620|           2620|3.7927480916030536|\n",
      "|   25-34|       Documentary|        3673|           3673|3.7704873400490064|\n",
      "|   35-44|       Documentary|        2107|           2107| 3.750830564784053|\n",
      "|   18-24|       Documentary|        2010|           2010|3.7460199004975125|\n",
      "+--------+------------------+------------+---------------+------------------+\n",
      "only showing top 20 rows\n",
      "\n"
     ]
    }
   ],
   "source": [
    "age_genres_avg_rating.show()"
   ]
  }
 ],
 "metadata": {
  "kernelspec": {
   "display_name": "Python 3",
   "language": "python",
   "name": "python3"
  },
  "language_info": {
   "codemirror_mode": {
    "name": "ipython",
    "version": 3
   },
   "file_extension": ".py",
   "mimetype": "text/x-python",
   "name": "python",
   "nbconvert_exporter": "python",
   "pygments_lexer": "ipython3",
   "version": "3.7.1"
  }
 },
 "nbformat": 4,
 "nbformat_minor": 2
}
