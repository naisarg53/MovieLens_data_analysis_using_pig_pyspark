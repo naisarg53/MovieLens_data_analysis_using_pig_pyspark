{
 "cells": [
  {
   "cell_type": "code",
   "execution_count": 1,
   "metadata": {},
   "outputs": [
    {
     "data": {
      "text/plain": [
       "'C:\\\\spark-2.4.4'"
      ]
     },
     "execution_count": 1,
     "metadata": {},
     "output_type": "execute_result"
    }
   ],
   "source": [
    "import findspark\n",
    "findspark.init()\n",
    "findspark.find()\n",
    "import pyspark\n",
    "findspark.find()"
   ]
  },
  {
   "cell_type": "code",
   "execution_count": 2,
   "metadata": {},
   "outputs": [],
   "source": [
    "from pyspark import SparkContext, SparkConf\n",
    "from pyspark.sql.functions import *\n",
    "from pyspark.sql.session import SparkSession\n",
    "sc = SparkContext.getOrCreate()\n",
    "spark = SparkSession(sc)"
   ]
  },
  {
   "cell_type": "code",
   "execution_count": 3,
   "metadata": {},
   "outputs": [],
   "source": [
    "users = spark.read.format(\"csv\")\\\n",
    ".options(header = True, inferSchema = True)\\\n",
    ".load(\"hdfs://localhost:9000/MovieData/input/users.csv\")\\\n",
    ".persist()"
   ]
  },
  {
   "cell_type": "code",
   "execution_count": 4,
   "metadata": {},
   "outputs": [],
   "source": [
    "movies = spark.read.format(\"csv\")\\\n",
    ".options(header = True, inferSchema = True)\\\n",
    ".load(\"hdfs://localhost:9000/MovieData/input/movie.csv\")\\\n",
    ".persist()"
   ]
  },
  {
   "cell_type": "code",
   "execution_count": 5,
   "metadata": {},
   "outputs": [],
   "source": [
    "ratings = spark.read.format(\"csv\")\\\n",
    ".options(header = True, inferSchema = True)\\\n",
    ".load(\"hdfs://localhost:9000/MovieData/input/rating.csv\")\\\n",
    ".persist()"
   ]
  },
  {
   "cell_type": "code",
   "execution_count": 6,
   "metadata": {},
   "outputs": [
    {
     "name": "stdout",
     "output_type": "stream",
     "text": [
      "+-----+---------+-----+\n",
      "|  age|   genres|count|\n",
      "+-----+---------+-----+\n",
      "|25-34|    Drama| 2096|\n",
      "|25-34|   Comedy| 2095|\n",
      "|25-34| Thriller| 2089|\n",
      "|25-34|   Action| 2089|\n",
      "|25-34|Adventure| 2088|\n",
      "|25-34|  Romance| 2083|\n",
      "|25-34|    Crime| 2079|\n",
      "|25-34|   Sci-Fi| 2058|\n",
      "|25-34|  Fantasy| 2015|\n",
      "|25-34|  Mystery| 1968|\n",
      "|25-34| Children| 1939|\n",
      "|25-34|      War| 1903|\n",
      "|25-34|   Horror| 1843|\n",
      "|25-34|Animation| 1809|\n",
      "|25-34|  Musical| 1750|\n",
      "|25-34|  Western| 1468|\n",
      "|25-34|     IMAX| 1378|\n",
      "|35-44|    Drama| 1193|\n",
      "|35-44|   Comedy| 1192|\n",
      "|35-44|  Romance| 1190|\n",
      "+-----+---------+-----+\n",
      "only showing top 20 rows\n",
      "\n"
     ]
    }
   ],
   "source": [
    "from pyspark.sql.functions import split, explode\n",
    "\n",
    "popular_age_genres = users.alias(\"t1\")\\\n",
    ".join(ratings.alias(\"t2\"), col(\"t1.user_id\") == col(\"t2.userId\"))\\\n",
    ".join(movies.alias(\"t3\"), col(\"t2.movieId\") == col(\"t3.movieId\"))\\\n",
    ".select(explode(split(col(\"genres\"), \"\\\\|\")).alias(\"genres\"), col(\"age\"), col(\"userId\"))\\\n",
    ".dropDuplicates()\\\n",
    ".groupBy(col(\"age\"), col(\"genres\")).count()\\\n",
    ".orderBy(desc(\"count\"))\n",
    "\n",
    "popular_age_genres.show()"
   ]
  },
  {
   "cell_type": "code",
   "execution_count": 8,
   "metadata": {},
   "outputs": [
    {
     "name": "stdout",
     "output_type": "stream",
     "text": [
      "+--------+-------------+-----------+\n",
      "|     age|popular_genre|total_count|\n",
      "+--------+-------------+-----------+\n",
      "|   18-24|       Comedy|       1103|\n",
      "|   25-34|        Drama|       2096|\n",
      "|   35-44|        Drama|       1193|\n",
      "|   45-49|        Drama|        550|\n",
      "|   50-55|        Drama|        496|\n",
      "|     56+|        Drama|        380|\n",
      "|Under 18|        Drama|        222|\n",
      "+--------+-------------+-----------+\n",
      "\n"
     ]
    }
   ],
   "source": [
    "result = popular_age_genres.groupBy(\"age\")\\\n",
    ".agg(first(col(\"genres\")).alias(\"popular_genre\"), first(col(\"count\")).alias(\"total_count\"))\\\n",
    ".orderBy(col(\"age\"))\n",
    "result.show()\n"
   ]
  },
  {
   "cell_type": "code",
   "execution_count": 16,
   "metadata": {},
   "outputs": [],
   "source": [
    "result.coalesce(1).write.csv(\"hdfs://localhost:9000/MovieData/output/popular_genre_age_Kgroup.csv\")"
   ]
  },
  {
   "cell_type": "code",
   "execution_count": 19,
   "metadata": {},
   "outputs": [
    {
     "data": {
      "image/png": "[encoded data removed]",
      "text/plain": [
       "<Figure size 720x360 with 1 Axes>"
      ]
     },
     "metadata": {
      "needs_background": "light"
     },
     "output_type": "display_data"
    }
   ],
   "source": [
    "import pandas as pd\n",
    "import matplotlib.pyplot as plt\n",
    "import seaborn as sb\n",
    "    \n",
    "import matplotlib\n",
    "%matplotlib inline \n",
    "\n",
    "plt.figure(figsize=(10, 5))\n",
    "\n",
    "df = result.toPandas()\n",
    "bar_graph = sb.barplot(data = df, x = 'age', y = 'total_count', ci = None, palette = 'Blues_d', order = [\"Under 18\", \"18-24\", \"25-34\", \"35-44\", \"45-49\", \"50-55\", \"56+\"]);\n",
    "\n",
    "i = 0\n",
    "for p in bar_graph.patches:\n",
    "    bar_graph.annotate(df.popular_genre[i] , xy=((p.get_x()), (p.get_height()*1)), rotation=30)\n",
    "    i = i +1"
   ]
  },
  {
   "cell_type": "code",
   "execution_count": 9,
   "metadata": {},
   "outputs": [],
   "source": [
    "result.coalesce(1).write.csv(\"hdfs://localhost:9000/MovieData/output/popular_genre_age_Pgroup.csv\")\n"
   ]
  },
  {
   "cell_type": "code",
   "execution_count": null,
   "metadata": {},
   "outputs": [],
   "source": []
  }
 ],
 "metadata": {
  "kernelspec": {
   "display_name": "Python 3",
   "language": "python",
   "name": "python3"
  },
  "language_info": {
   "codemirror_mode": {
    "name": "ipython",
    "version": 3
   },
   "file_extension": ".py",
   "mimetype": "text/x-python",
   "name": "python",
   "nbconvert_exporter": "python",
   "pygments_lexer": "ipython3",
   "version": "3.7.1"
  }
 },
 "nbformat": 4,
 "nbformat_minor": 2
}
